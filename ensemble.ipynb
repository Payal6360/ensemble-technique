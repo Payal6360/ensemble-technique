{
  "nbformat": 4,
  "nbformat_minor": 0,
  "metadata": {
    "colab": {
      "provenance": []
    },
    "kernelspec": {
      "name": "python3",
      "display_name": "Python 3"
    },
    "language_info": {
      "name": "python"
    }
  },
  "cells": [
    {
      "cell_type": "markdown",
      "source": [
        "# theory question\n"
      ],
      "metadata": {
        "id": "K3TZxz2SdZGB"
      }
    },
    {
      "cell_type": "markdown",
      "source": [
        "1- Can we use Bagging for regression problems?\n",
        "\n",
        "ANS:- Yes, Bagging can be used for regression. It trains multiple models on different samples and averages their predictions. This helps reduce variance and improves accuracy on continuous output problems.\n"
      ],
      "metadata": {
        "id": "j7gW5_9FeBm5"
      }
    },
    {
      "cell_type": "markdown",
      "source": [
        "2- What is the difference between multiple model training and single model training.\n",
        "\n",
        "ANS:- Single model training uses one model on the full dataset. In multiple model training, several models are trained and their predictions are combined. This improves performance, reduces overfitting, and increases robustness.\n"
      ],
      "metadata": {
        "id": "GvBau5KmgBIV"
      }
    },
    {
      "cell_type": "markdown",
      "source": [
        "3- Explain the concept of feature randomness in Random Forest.\n",
        "\n",
        "ANS:- Random Forest selects a random subset of features at each split when building trees. This introduces diversity among trees, reduces correlation, and improves the model’s accuracy and generalization."
      ],
      "metadata": {
        "id": "pzOzmf76gsna"
      }
    },
    {
      "cell_type": "markdown",
      "source": [
        "4- What is OOB (Out-of-Bag) Score.\n",
        "\n",
        "ANS-:OOB score uses the data not included in a tree’s training to evaluate performance. It gives an unbiased accuracy estimate without needing separate validation or cross-validation."
      ],
      "metadata": {
        "id": "7yC91nFnhAtS"
      }
    },
    {
      "cell_type": "markdown",
      "source": [
        "5- How can you measure the importance of features in a Random Forest model.\n",
        "\n",
        "ANS-: Feature importance is measured by how much each feature reduces impurity (Gini or entropy) or by how much performance drops when the feature is randomly shuffled (permutation importance)."
      ],
      "metadata": {
        "id": "RJMzXVZPhXI4"
      }
    },
    {
      "cell_type": "markdown",
      "source": [
        "6- Explain the working principle of a Bagging Classifier.\n",
        "\n",
        "ANS-:A Bagging Classifier builds multiple models (e.g., decision trees) on random data subsets. Their predictions are combined using majority voting, making the final decision more stable and accurate."
      ],
      "metadata": {
        "id": "SSPtcVZrhnmW"
      }
    },
    {
      "cell_type": "markdown",
      "source": [
        "7- How do you evaluate a Bagging Classifier’s performance.\n",
        "\n",
        "ANS:- Evaluate using classification metrics like accuracy, precision, recall, F1-score, or confusion matrix. You can also use the Out-of-Bag (OOB) score as a built-in validation metric."
      ],
      "metadata": {
        "id": "P_oWX8ZOh4wm"
      }
    },
    {
      "cell_type": "markdown",
      "source": [
        "8-  How does a Bagging Regressor work.\n",
        "\n",
        "ANS-: Bagging Regressor trains several regression models on bootstrapped datasets. The final prediction is the average of all models, reducing variance and improving predictive performance on continuous outputs."
      ],
      "metadata": {
        "id": "_UrDVQ_biMLu"
      }
    },
    {
      "cell_type": "markdown",
      "source": [
        "9-  What is the main advantage of ensemble techniques.\n",
        "\n",
        "ANS:- They improve accuracy, reduce overfitting, and create more robust models by combining multiple weak learners into a strong overall predictor."
      ],
      "metadata": {
        "id": "P73QCq-KicIg"
      }
    },
    {
      "cell_type": "markdown",
      "source": [
        "10-  What is the main challenge of ensemble methods.\n",
        "\n",
        "ANS:- They are harder to interpret, take more computational resources, and may overfit if not properly tuned. Managing complexity and training time is also a challenge.\n",
        "\n",
        "---\n",
        "\n",
        "\n"
      ],
      "metadata": {
        "id": "QXhbPXSNizpw"
      }
    },
    {
      "cell_type": "markdown",
      "source": [
        "11- Explain the key idea behind ensemble techniques.\n",
        "\n",
        "ANS:- Ensemble techniques combine predictions from multiple models to improve accuracy, reduce variance, and enhance robustness. The core idea is that a group of weak learners can perform better together than a single strong learner."
      ],
      "metadata": {
        "id": "OatndayVjRBH"
      }
    },
    {
      "cell_type": "markdown",
      "source": [
        "12-  What is a Random Forest Classifier.\n",
        "\n",
        "ANS:- It’s an ensemble of decision trees trained using bagging and feature randomness. Each tree gives a prediction, and the final class is decided by majority vote. It reduces overfitting and increases accuracy"
      ],
      "metadata": {
        "id": "nIlfJIfejzwd"
      }
    },
    {
      "cell_type": "markdown",
      "source": [
        "13- What are the main types of ensemble techniques.\n",
        "\n",
        "ANS:-. Bagging (e.g., Random Forest)\n",
        "\n",
        "      . Boosting (e.g., XGBoost, AdaBoost)\n",
        "\n",
        "      . Stacking (combines multiple model outputs via meta-learner)"
      ],
      "metadata": {
        "id": "Iu_0vkuukHow"
      }
    },
    {
      "cell_type": "markdown",
      "source": [
        "14_ What is ensemble learning in machine learning.\n",
        "\n",
        "ANS :- Ensemble learning is a technique where multiple models (often weak) are combined to produce a better, more reliable model. It’s used to improve performance and generalization."
      ],
      "metadata": {
        "id": "pa-r6YT4kvDc"
      }
    },
    {
      "cell_type": "markdown",
      "source": [
        "15- When should we avoid using ensemble methods.\n",
        "\n",
        "ANS:-  . Model interpretability is crucial\n",
        "\n",
        "        . Dataset is very small\n",
        "\n",
        "        . Computation power is limited\n",
        "\n",
        "         . Base models are already performing extremely well"
      ],
      "metadata": {
        "id": "iTa8KXR5lFgN"
      }
    },
    {
      "cell_type": "markdown",
      "source": [
        "16- How does Bagging help in reducing overfitting.\n",
        "\n",
        "ANS:- Bagging trains models on different random subsets, reducing variance and overfitting. Since each model sees a different view of the data, combining their outputs leads to better generalization."
      ],
      "metadata": {
        "id": "f0CwuwIRlqIa"
      }
    },
    {
      "cell_type": "markdown",
      "source": [
        "17- Why is Random Forest better than a single Decision Tree.\n",
        "\n",
        "ANS:- Random Forest combines multiple trees to reduce overfitting, improves accuracy, and handles noise better. A single tree is more prone to high variance and may not generalize well.\n"
      ],
      "metadata": {
        "id": "oT_swskol7m-"
      }
    },
    {
      "cell_type": "markdown",
      "source": [
        "18-  What is the role of bootstrap sampling in Bagging.\n",
        "\n",
        "ANS:- Bootstrap sampling creates different training sets by sampling with replacement. This ensures model diversity, as each base model is trained on a different subset of the original data."
      ],
      "metadata": {
        "id": "taACkDXKmM5e"
      }
    },
    {
      "cell_type": "markdown",
      "source": [
        "19- What are some real-world applications of ensemble techniques.\n",
        "\n",
        "ANS:- Used in fraud detection, spam filtering, credit scoring, recommendation systems, medical diagnosis, and stock market prediction due to high accuracy and robustness."
      ],
      "metadata": {
        "id": "SEu09vpJmbLg"
      }
    },
    {
      "cell_type": "markdown",
      "source": [
        "20- What is the difference between Bagging and Boosting?\n",
        "\n",
        "ANS:-Bagging: Builds models in parallel, reduces variance, each model is independent (e.g., Random Forest).\n",
        "\n",
        "Boosting: Builds models sequentially, focuses on errors of previous ones, reduces bias (e.g., AdaBoost, XGBoost)."
      ],
      "metadata": {
        "id": "fzmslRK6mtaH"
      }
    },
    {
      "cell_type": "code",
      "source": [
        "import numpy as np\n"
      ],
      "metadata": {
        "id": "NqKftJl4-dPr"
      },
      "execution_count": null,
      "outputs": []
    },
    {
      "cell_type": "markdown",
      "source": [
        "# PRACTICAL  QUESTION\n"
      ],
      "metadata": {
        "id": "UwYmESlSnndW"
      }
    },
    {
      "cell_type": "markdown",
      "source": [
        "21- Train a Bagging Classifier using Decision Trees on a sample dataset and print model accuracy."
      ],
      "metadata": {
        "id": "_VfnrlYxoZ2e"
      }
    },
    {
      "cell_type": "code",
      "source": [
        "from sklearn.ensemble import BaggingClassifier\n",
        "from sklearn.tree import DecisionTreeClassifier\n",
        "from sklearn.datasets import load_iris\n",
        "from sklearn.model_selection import train_test_split\n",
        "from sklearn.metrics import accuracy_score\n",
        "\n",
        "X, y = load_iris(return_X_y=True)\n",
        "X_train, X_test, y_train, y_test = train_test_split(X, y, test_size=0.3)\n",
        "\n",
        "model  =  BaggingClassifier(estimator=DecisionTreeClassifier(), n_estimators=10)\n",
        "model.fit(X_train, y_train)\n",
        "y_pred = model.predict(X_test)\n",
        "\n",
        "print(\"Accuracy:\", accuracy_score(y_test, y_pred))\n"
      ],
      "metadata": {
        "colab": {
          "base_uri": "https://localhost:8080/"
        },
        "id": "IkuuhLyHof92",
        "outputId": "87f6136a-df96-4001-f3e1-6c621f5fcbfa"
      },
      "execution_count": null,
      "outputs": [
        {
          "output_type": "stream",
          "name": "stdout",
          "text": [
            "Accuracy: 1.0\n"
          ]
        }
      ]
    },
    {
      "cell_type": "markdown",
      "source": [
        "22- Train a Bagging Regressor using Decision Trees and evaluate using Mean Squared Error (MSE)."
      ],
      "metadata": {
        "id": "f8j5mm0epFiR"
      }
    },
    {
      "cell_type": "code",
      "source": [
        "from sklearn.ensemble import BaggingRegressor\n",
        "from sklearn.datasets import make_regression\n",
        "from sklearn.metrics import mean_squared_error\n",
        "\n",
        "X, y = make_regression(n_samples=300, n_features=5, noise=0.2, random_state=42)\n",
        "X_train, X_test, y_train, y_test = train_test_split(X, y, test_size=0.3)\n",
        "\n",
        "regressor = BaggingRegressor(estimator=DecisionTreeRegressor(), n_estimators=10)\n",
        "regressor.fit(X_train, y_train)\n",
        "y_pred = regressor.predict(X_test)\n",
        "\n",
        "print(\"MSE:\", mean_squared_error(y_test, y_pred))\n"
      ],
      "metadata": {
        "colab": {
          "base_uri": "https://localhost:8080/"
        },
        "id": "hpyFalpUpQpK",
        "outputId": "09001869-4b44-4973-ab06-247f45905464"
      },
      "execution_count": null,
      "outputs": [
        {
          "output_type": "stream",
          "name": "stdout",
          "text": [
            "MSE: 773.8372962630675\n"
          ]
        }
      ]
    },
    {
      "cell_type": "markdown",
      "source": [
        "23- Train a Random Forest Classifier on the Breast Cancer dataset and print feature importance scores."
      ],
      "metadata": {
        "id": "G_Pf3dA1phr3"
      }
    },
    {
      "cell_type": "code",
      "source": [
        "from sklearn.ensemble import RandomForestClassifier\n",
        "from sklearn.datasets import load_breast_cancer\n",
        "import pandas as pd\n",
        "\n",
        "data = load_breast_cancer()\n",
        "X, y = data.data, data.target\n",
        "\n",
        "model = RandomForestClassifier()\n",
        "model.fit(X, y)\n",
        "\n",
        "feature_importances = pd.Series(model.feature_importances_, index=data.feature_names)\n",
        "print(feature_importances.sort_values(ascending=False))\n"
      ],
      "metadata": {
        "colab": {
          "base_uri": "https://localhost:8080/"
        },
        "id": "31iOCuQkprJ8",
        "outputId": "17e38184-cb0a-4a3e-949b-4f9f0bbc5826"
      },
      "execution_count": null,
      "outputs": [
        {
          "output_type": "stream",
          "name": "stdout",
          "text": [
            "worst radius               0.170405\n",
            "worst perimeter            0.132134\n",
            "worst concave points       0.130629\n",
            "worst area                 0.098505\n",
            "mean concave points        0.083613\n",
            "mean perimeter             0.048255\n",
            "mean area                  0.043996\n",
            "mean concavity             0.042142\n",
            "area error                 0.036607\n",
            "worst concavity            0.033349\n",
            "mean radius                0.030854\n",
            "worst texture              0.018832\n",
            "worst compactness          0.014890\n",
            "radius error               0.014077\n",
            "worst symmetry             0.012628\n",
            "worst smoothness           0.012619\n",
            "mean texture               0.012002\n",
            "mean compactness           0.007469\n",
            "mean smoothness            0.006866\n",
            "worst fractal dimension    0.006294\n",
            "perimeter error            0.005497\n",
            "concavity error            0.005482\n",
            "fractal dimension error    0.005410\n",
            "symmetry error             0.005296\n",
            "concave points error       0.004650\n",
            "compactness error          0.004236\n",
            "mean symmetry              0.004014\n",
            "texture error              0.003760\n",
            "smoothness error           0.003423\n",
            "mean fractal dimension     0.002067\n",
            "dtype: float64\n"
          ]
        }
      ]
    },
    {
      "cell_type": "markdown",
      "source": [
        "24- Train a Random Forest Regressor and compare its performance with a single Decision Tree."
      ],
      "metadata": {
        "id": "pEzkND5Tp7RX"
      }
    },
    {
      "cell_type": "code",
      "source": [
        "from sklearn.datasets import make_regression\n",
        "from sklearn.model_selection import train_test_split\n",
        "from sklearn.metrics import mean_squared_error\n",
        "from sklearn.tree import DecisionTreeRegressor\n",
        "from sklearn.ensemble import RandomForestRegressor\n",
        "y_class = np.where(y > 0.5, 1, 0)\n",
        "# Data\n",
        "X, y = make_regression(n_samples=200, n_features=4, noise=0.2, random_state=42)\n",
        "X_train, X_test, y_train, y_test = train_test_split(X, y, test_size=0.2, random_state=42)\n",
        "\n",
        "# Decision Tree\n",
        "dt = DecisionTreeRegressor(random_state=42)\n",
        "dt.fit(X_train, y_train)\n",
        "dt_mse = mean_squared_error(y_test, dt.predict(X_test))\n",
        "\n",
        "# Random Forest\n",
        "rf = RandomForestRegressor(n_estimators=100, random_state=42)\n",
        "rf.fit(X_train, y_train)\n",
        "rf_mse = mean_squared_error(y_test, rf.predict(X_test))\n",
        "\n",
        "print(\"Decision Tree MSE:\", dt_mse)\n",
        "print(\"Random Forest MSE:\", rf_mse)\n"
      ],
      "metadata": {
        "colab": {
          "base_uri": "https://localhost:8080/"
        },
        "id": "T3nlPKA6qDV8",
        "outputId": "0bf9cca0-933d-4754-fea3-18755910f2ea"
      },
      "execution_count": null,
      "outputs": [
        {
          "output_type": "stream",
          "name": "stdout",
          "text": [
            "Decision Tree MSE: 2356.147253372337\n",
            "Random Forest MSE: 1375.8822640926498\n"
          ]
        }
      ]
    },
    {
      "cell_type": "markdown",
      "source": [
        "25- Compute the Out-of-Bag (OOB) Score for a Random Forest Classifier."
      ],
      "metadata": {
        "id": "wDv7axSvqKaE"
      }
    },
    {
      "cell_type": "code",
      "source": [
        "\n",
        "\n",
        "model = RandomForestClassifier(n_estimators=100, oob_score=True)\n",
        "model.fit(X, y_class )\n",
        "print(\"OOB Score:\", model.oob_score_)\n"
      ],
      "metadata": {
        "colab": {
          "base_uri": "https://localhost:8080/"
        },
        "id": "J7pv7wEmqUCs",
        "outputId": "c0ff1721-fe0e-4ec8-dbdc-b4700f6a7232"
      },
      "execution_count": null,
      "outputs": [
        {
          "output_type": "stream",
          "name": "stdout",
          "text": [
            "OOB Score: 0.925\n"
          ]
        }
      ]
    },
    {
      "cell_type": "markdown",
      "source": [
        "26- Train a Bagging Classifier using SVM as a base estimator and print accuracy."
      ],
      "metadata": {
        "id": "3tbnQ1Teqdrb"
      }
    },
    {
      "cell_type": "code",
      "source": [
        "import numpy as np\n",
        "\n",
        "y_class = np.where(y > 0.5, 1, 0)\n",
        "X_train, X_test, y_train, y_test = train_test_split(X, y_class, test_size=0.2, random_state=42)\n",
        "\n",
        "from sklearn.svm import SVC\n",
        "from sklearn.ensemble import BaggingClassifier\n",
        "\n",
        "svm_bag = BaggingClassifier(estimator=SVC(), n_estimators=10, random_state=42)\n",
        "svm_bag.fit(X_train, y_train)\n",
        "print(\"Bagging SVM Accuracy:\", svm_bag.score(X_test, y_test))\n",
        "\n"
      ],
      "metadata": {
        "colab": {
          "base_uri": "https://localhost:8080/"
        },
        "id": "0VUjKA8ZqtoA",
        "outputId": "ceb8e9f3-3371-4f25-ad64-4868e4c1bdd6"
      },
      "execution_count": null,
      "outputs": [
        {
          "output_type": "stream",
          "name": "stdout",
          "text": [
            "Bagging SVM Accuracy: 0.9473684210526315\n"
          ]
        }
      ]
    },
    {
      "cell_type": "code",
      "source": [],
      "metadata": {
        "colab": {
          "base_uri": "https://localhost:8080/"
        },
        "id": "W1961YweCpDR",
        "outputId": "5f844912-43ff-4bff-a44b-d731d0a6e6ae"
      },
      "execution_count": null,
      "outputs": [
        {
          "output_type": "stream",
          "name": "stdout",
          "text": [
            "Bagging SVM Accuracy: 0.9473684210526315\n"
          ]
        }
      ]
    },
    {
      "cell_type": "markdown",
      "source": [
        "27-Train a Random Forest Classifier with different numbers of trees and compare accuracy"
      ],
      "metadata": {
        "id": "EMCZB19yq7DO"
      }
    },
    {
      "cell_type": "code",
      "source": [
        "from sklearn.ensemble import RandomForestClassifier\n",
        "import numpy as np\n",
        "\n",
        "# Convert y_train and y_test into binary classes BEFORE training/testing\n",
        "y_class_train = np.where(y_train > 0.5, 1, 0)\n",
        "y_class_test  = np.where(y_test > 0.5, 1, 0)\n",
        "\n",
        "# Train Random Forest with different n_estimators\n",
        "for n in [10, 50, 100, 200]:\n",
        "    rf = RandomForestClassifier(n_estimators=n, random_state=42)\n",
        "    rf.fit(X_train, y_class_train)\n",
        "    acc = rf.score(X_test, y_class_test)  # Use binary y_class_test\n",
        "    print(f\"Accuracy with {n} trees: {acc:.4f}\")\n",
        "\n"
      ],
      "metadata": {
        "colab": {
          "base_uri": "https://localhost:8080/"
        },
        "id": "kaCJcuNhrTGx",
        "outputId": "0056d1f9-7bb1-4b69-b6b2-b8fab6361734"
      },
      "execution_count": null,
      "outputs": [
        {
          "output_type": "stream",
          "name": "stdout",
          "text": [
            "Accuracy with 10 trees: 0.9561\n",
            "Accuracy with 50 trees: 0.9649\n",
            "Accuracy with 100 trees: 0.9649\n",
            "Accuracy with 200 trees: 0.9649\n"
          ]
        }
      ]
    },
    {
      "cell_type": "markdown",
      "source": [
        "28- Train a Bagging Classifier using Logistic Regression as a base estimator and print AUC score2"
      ],
      "metadata": {
        "id": "_jeD4TEIrbKR"
      }
    },
    {
      "cell_type": "code",
      "source": [
        "from sklearn.linear_model import LogisticRegression\n",
        "from sklearn.metrics import roc_auc_score\n",
        "\n",
        "bag_log = BaggingClassifier(estimator=LogisticRegression(max_iter=1000), n_estimators=10)\n",
        "bag_log.fit(X_train, y_train)\n",
        "y_prob = bag_log.predict_proba(X_test)[:, 1]\n",
        "print(\"AUC Score:\", roc_auc_score(y_test, y_prob))\n"
      ],
      "metadata": {
        "colab": {
          "base_uri": "https://localhost:8080/"
        },
        "id": "7P6_CLCzrjPE",
        "outputId": "2d21b2dd-a175-43a5-c4f6-003178924839"
      },
      "execution_count": null,
      "outputs": [
        {
          "output_type": "stream",
          "name": "stdout",
          "text": [
            "AUC Score: 0.9980347199475925\n"
          ]
        }
      ]
    },
    {
      "cell_type": "markdown",
      "source": [
        "29-Train a Random Forest Regressor and analyze feature importance scores."
      ],
      "metadata": {
        "id": "JglbdnDar-Qz"
      }
    },
    {
      "cell_type": "code",
      "source": [
        "rf = RandomForestRegressor()\n",
        "rf.fit(X_train, y_train)\n",
        "print(\"Feature Importances:\", rf.feature_importances_)\n"
      ],
      "metadata": {
        "colab": {
          "base_uri": "https://localhost:8080/"
        },
        "id": "EfLpyY1bsC_N",
        "outputId": "b7c8cd8c-3e63-4e55-869a-067cc2142011"
      },
      "execution_count": null,
      "outputs": [
        {
          "output_type": "stream",
          "name": "stdout",
          "text": [
            "Feature Importances: [0.00415297 0.0215528  0.00364902 0.00436622 0.00415665 0.00145707\n",
            " 0.00483067 0.2661306  0.00311284 0.00354428 0.00661878 0.00388769\n",
            " 0.0037248  0.00921452 0.00347254 0.00331149 0.00656775 0.00276882\n",
            " 0.00133574 0.0058421  0.07630678 0.02970669 0.16994192 0.0760678\n",
            " 0.00771278 0.00312428 0.01209524 0.2549798  0.0041622  0.00220517]\n"
          ]
        }
      ]
    },
    {
      "cell_type": "markdown",
      "source": [
        "30- Train an ensemble model using both Bagging and Random Forest and compare accuracy."
      ],
      "metadata": {
        "id": "acmBbfGFsLDQ"
      }
    },
    {
      "cell_type": "code",
      "source": [
        "bag = BaggingClassifier(estimator=DecisionTreeClassifier(), n_estimators=50)\n",
        "rf = RandomForestClassifier(n_estimators=50)\n",
        "\n",
        "bag.fit(X_train, y_train)\n",
        "rf.fit(X_train, y_train)\n",
        "\n",
        "bag_acc = bag.score(X_test, y_test)\n",
        "rf_acc = rf.score(X_test, y_test)\n",
        "\n",
        "print(\"Bagging Accuracy:\", bag_acc)\n",
        "print(\"Random Forest Accuracy:\", rf_acc)\n"
      ],
      "metadata": {
        "colab": {
          "base_uri": "https://localhost:8080/"
        },
        "id": "GCLklEDMsRfH",
        "outputId": "b024cf55-e3e0-44a0-f6c2-e4027405d39e"
      },
      "execution_count": null,
      "outputs": [
        {
          "output_type": "stream",
          "name": "stdout",
          "text": [
            "Bagging Accuracy: 0.956140350877193\n",
            "Random Forest Accuracy: 0.956140350877193\n"
          ]
        }
      ]
    },
    {
      "cell_type": "markdown",
      "source": [
        "31- Train a Random Forest Classifier and tune hyperparameters using GridSearchCV."
      ],
      "metadata": {
        "id": "ez7YCPWbv7vZ"
      }
    },
    {
      "cell_type": "code",
      "source": [
        "from sklearn.datasets import load_breast_cancer\n",
        "from sklearn.ensemble import RandomForestClassifier\n",
        "from sklearn.model_selection import GridSearchCV, train_test_split\n",
        "from sklearn.metrics import classification_report, accuracy_score\n",
        "\n",
        "# Step 1: Load dataset\n",
        "data = load_breast_cancer()\n",
        "X = data.data\n",
        "y = data.target\n",
        "\n",
        "# Step 2: Train-test split\n",
        "X_train, X_test, y_train, y_test = train_test_split(X, y, test_size=0.2, random_state=42)\n",
        "\n",
        "# Step 3: Define the Random Forest Classifier\n",
        "rf = RandomForestClassifier(random_state=42)\n",
        "\n",
        "# Step 4: Define hyperparameter grid\n",
        "param_grid = {\n",
        "    'n_estimators': [50, 100, 200],\n",
        "    'max_depth': [None, 10, 20],\n",
        "    'min_samples_split': [2, 5],\n",
        "    'min_samples_leaf': [1, 2],\n",
        "    'max_features': ['sqrt', 'log2']\n",
        "}\n",
        "\n",
        "# Step 5: Grid Search with 5-fold cross-validation\n",
        "grid_search = GridSearchCV(estimator=rf,\n",
        "                           param_grid=param_grid,\n",
        "                           cv=5,\n",
        "                           scoring='accuracy',\n",
        "                           n_jobs=-1,\n",
        "                           verbose=1)\n",
        "\n",
        "# Step 6: Fit the model\n",
        "grid_search.fit(X_train, y_train)\n",
        "\n",
        "# Step 7: Best parameters and accuracy\n",
        "print(\"Best Parameters:\", grid_search.best_params_)\n",
        "\n",
        "best_rf = grid_search.best_estimator_\n",
        "y_pred = best_rf.predict(X_test)\n",
        "\n",
        "# Step 8: Evaluation\n",
        "print(\"Accuracy on test set:\", accuracy_score(y_test, y_pred))\n",
        "print(\"Classification Report:\\n\", classification_report(y_test, y_pred))\n"
      ],
      "metadata": {
        "colab": {
          "base_uri": "https://localhost:8080/"
        },
        "id": "fIuDjWsNwDrm",
        "outputId": "5e517a17-738a-4096-ad0e-6391c48318f8"
      },
      "execution_count": null,
      "outputs": [
        {
          "output_type": "stream",
          "name": "stdout",
          "text": [
            "Fitting 5 folds for each of 72 candidates, totalling 360 fits\n",
            "Best Parameters: {'max_depth': None, 'max_features': 'log2', 'min_samples_leaf': 1, 'min_samples_split': 5, 'n_estimators': 50}\n",
            "Accuracy on test set: 0.9736842105263158\n",
            "Classification Report:\n",
            "               precision    recall  f1-score   support\n",
            "\n",
            "           0       0.98      0.95      0.96        43\n",
            "           1       0.97      0.99      0.98        71\n",
            "\n",
            "    accuracy                           0.97       114\n",
            "   macro avg       0.97      0.97      0.97       114\n",
            "weighted avg       0.97      0.97      0.97       114\n",
            "\n"
          ]
        }
      ]
    },
    {
      "cell_type": "markdown",
      "source": [
        "32 - Train a Bagging Regressor with different numbers of base estimators and compare performance"
      ],
      "metadata": {
        "id": "XmUZSLo2woBf"
      }
    },
    {
      "cell_type": "code",
      "source": [
        "from sklearn.datasets import fetch_california_housing\n",
        "from sklearn.model_selection import train_test_split\n",
        "from sklearn.ensemble import BaggingRegressor\n",
        "from sklearn.tree import DecisionTreeRegressor\n",
        "from sklearn.metrics import mean_squared_error\n",
        "import matplotlib.pyplot as plt\n",
        "\n",
        "# Load dataset\n",
        "data = fetch_california_housing()\n",
        "X, y = data.data, data.target\n",
        "\n",
        "# Train-test split\n",
        "X_train, X_test, y_train, y_test = train_test_split(X, y, test_size=0.2, random_state=42)\n",
        "\n",
        "# Define different number of base estimators\n",
        "n_estimators_list = [1, 5, 10, 20, 50, 100]\n",
        "mse_scores = []\n",
        "\n",
        "# Train and evaluate models\n",
        "for n in n_estimators_list:\n",
        "    model = BaggingRegressor(\n",
        "        estimator=DecisionTreeRegressor(),\n",
        "        n_estimators=n,\n",
        "        random_state=42\n",
        "    )\n",
        "    model.fit(X_train, y_train)\n",
        "    y_pred = model.predict(X_test)\n",
        "    mse = mean_squared_error(y_test, y_pred)\n",
        "    mse_scores.append(mse)\n",
        "    print(f\"n_estimators={n} -> MSE: {mse:.4f}\")\n",
        "\n",
        "# Plotting the results\n",
        "plt.figure(figsize=(8, 5))\n",
        "plt.plot(n_estimators_list, mse_scores, marker='o', linestyle='-')\n",
        "plt.title(\"Bagging Regressor Performance vs. Number of Estimators\")\n",
        "plt.xlabel(\"Number of Estimators\")\n",
        "plt.ylabel(\"Mean Squared Error (MSE)\")\n",
        "plt.grid(True)\n",
        "plt.show()\n"
      ],
      "metadata": {
        "colab": {
          "base_uri": "https://localhost:8080/",
          "height": 591
        },
        "id": "sUxsxQG2w06c",
        "outputId": "2eedecb0-67a4-48db-92d3-f0c8f03c3513"
      },
      "execution_count": null,
      "outputs": [
        {
          "output_type": "stream",
          "name": "stdout",
          "text": [
            "n_estimators=1 -> MSE: 0.5501\n",
            "n_estimators=5 -> MSE: 0.3060\n",
            "n_estimators=10 -> MSE: 0.2824\n",
            "n_estimators=20 -> MSE: 0.2643\n",
            "n_estimators=50 -> MSE: 0.2573\n",
            "n_estimators=100 -> MSE: 0.2559\n"
          ]
        },
        {
          "output_type": "display_data",
          "data": {
            "text/plain": [
              "<Figure size 800x500 with 1 Axes>"
            ],
            "image/png": "[encoded data removed]"
          },
          "metadata": {}
        }
      ]
    },
    {
      "cell_type": "markdown",
      "source": [
        "33-  Train a Random Forest Classifier and analyze misclassified samples."
      ],
      "metadata": {
        "id": "h03KaX3q0Njp"
      }
    },
    {
      "cell_type": "code",
      "source": [
        "from sklearn.datasets import load_breast_cancer\n",
        "from sklearn.ensemble import RandomForestClassifier\n",
        "from sklearn.model_selection import train_test_split\n",
        "from sklearn.metrics import classification_report, confusion_matrix\n",
        "import pandas as pd\n",
        "import numpy as np\n",
        "\n",
        "# Load dataset\n",
        "data = load_breast_cancer()\n",
        "X = pd.DataFrame(data.data, columns=data.feature_names)\n",
        "y = pd.Series(data.target)\n",
        "\n",
        "# Train-test split\n",
        "X_train, X_test, y_train, y_test = train_test_split(X, y, test_size=0.2, random_state=42)\n",
        "\n",
        "# Train Random Forest Classifier\n",
        "clf = RandomForestClassifier(n_estimators=100, random_state=42)\n",
        "clf.fit(X_train, y_train)\n",
        "\n",
        "# Predictions\n",
        "y_pred = clf.predict(X_test)\n",
        "\n",
        "# Evaluation\n",
        "print(\"Classification Report:\\n\", classification_report(y_test, y_pred))\n",
        "print(\"Confusion Matrix:\\n\", confusion_matrix(y_test, y_pred))\n",
        "\n",
        "# Analyze misclassified samples\n",
        "misclassified_indices = np.where(y_test != y_pred)[0]\n",
        "print(f\"\\nTotal misclassified samples: {len(misclassified_indices)}\")\n",
        "\n",
        "# View misclassified samples with actual vs predicted\n",
        "misclassified_df = pd.DataFrame({\n",
        "    'Index': misclassified_indices,\n",
        "    'Actual': y_test.iloc[misclassified_indices].values,\n",
        "    'Predicted': y_pred[misclassified_indices]\n",
        "})\n",
        "print(\"\\nMisclassified Samples:\\n\", misclassified_df.head())\n",
        "\n",
        "# Optional: Show feature values for first few misclassified samples\n",
        "print(\"\\nFeature values of first misclassified sample:\\n\")\n",
        "print(X_test.iloc[misclassified_indices[0]])\n"
      ],
      "metadata": {
        "colab": {
          "base_uri": "https://localhost:8080/"
        },
        "id": "ROuWwbOW0UYX",
        "outputId": "dd718838-971d-4767-e8ca-ef2eb663ad3f"
      },
      "execution_count": null,
      "outputs": [
        {
          "output_type": "stream",
          "name": "stdout",
          "text": [
            "Classification Report:\n",
            "               precision    recall  f1-score   support\n",
            "\n",
            "           0       0.98      0.93      0.95        43\n",
            "           1       0.96      0.99      0.97        71\n",
            "\n",
            "    accuracy                           0.96       114\n",
            "   macro avg       0.97      0.96      0.96       114\n",
            "weighted avg       0.97      0.96      0.96       114\n",
            "\n",
            "Confusion Matrix:\n",
            " [[40  3]\n",
            " [ 1 70]]\n",
            "\n",
            "Total misclassified samples: 4\n",
            "\n",
            "Misclassified Samples:\n",
            "    Index  Actual  Predicted\n",
            "0      8       1          0\n",
            "1     20       0          1\n",
            "2     77       0          1\n",
            "3     82       0          1\n",
            "\n",
            "Feature values of first misclassified sample:\n",
            "\n",
            "mean radius                 13.340000\n",
            "mean texture                15.860000\n",
            "mean perimeter              86.490000\n",
            "mean area                  520.000000\n",
            "mean smoothness              0.107800\n",
            "mean compactness             0.153500\n",
            "mean concavity               0.116900\n",
            "mean concave points          0.069870\n",
            "mean symmetry                0.194200\n",
            "mean fractal dimension       0.069020\n",
            "radius error                 0.286000\n",
            "texture error                1.016000\n",
            "perimeter error              1.535000\n",
            "area error                  12.960000\n",
            "smoothness error             0.006794\n",
            "compactness error            0.035750\n",
            "concavity error              0.039800\n",
            "concave points error         0.013830\n",
            "symmetry error               0.021340\n",
            "fractal dimension error      0.004603\n",
            "worst radius                15.530000\n",
            "worst texture               23.190000\n",
            "worst perimeter             96.660000\n",
            "worst area                 614.900000\n",
            "worst smoothness             0.153600\n",
            "worst compactness            0.479100\n",
            "worst concavity              0.485800\n",
            "worst concave points         0.170800\n",
            "worst symmetry               0.352700\n",
            "worst fractal dimension      0.101600\n",
            "Name: 81, dtype: float64\n"
          ]
        }
      ]
    },
    {
      "cell_type": "code",
      "source": [],
      "metadata": {
        "id": "PJtY8IwY0isy"
      },
      "execution_count": null,
      "outputs": []
    },
    {
      "cell_type": "markdown",
      "source": [
        "34- Train a Bagging Classifier and compare its performance with a single Decision Tree Classifier"
      ],
      "metadata": {
        "id": "m91IFSS20pqK"
      }
    },
    {
      "cell_type": "code",
      "source": [
        "from sklearn.datasets import load_iris\n",
        "from sklearn.model_selection import train_test_split\n",
        "from sklearn.tree import DecisionTreeClassifier\n",
        "from sklearn.ensemble import BaggingClassifier\n",
        "from sklearn.metrics import accuracy_score, classification_report\n",
        "\n",
        "# Load dataset\n",
        "data = load_iris()\n",
        "X, y = data.data, data.target\n",
        "\n",
        "# Train-test split\n",
        "X_train, X_test, y_train, y_test = train_test_split(X, y, test_size=0.2, random_state=42)\n",
        "\n",
        "# 1️⃣ Single Decision Tree Classifier\n",
        "dt = DecisionTreeClassifier(random_state=42)\n",
        "dt.fit(X_train, y_train)\n",
        "y_pred_dt = dt.predict(X_test)\n",
        "acc_dt = accuracy_score(y_test, y_pred_dt)\n",
        "\n",
        "print(\"Decision Tree Classifier:\")\n",
        "print(f\"Accuracy: {acc_dt:.4f}\")\n",
        "print(classification_report(y_test, y_pred_dt))\n",
        "\n",
        "# 2️⃣ Bagging Classifier with Decision Trees\n",
        "bagging = BaggingClassifier(estimator=DecisionTreeClassifier(), n_estimators=50, random_state=42)\n",
        "bagging.fit(X_train, y_train)\n",
        "y_pred_bag = bagging.predict(X_test)\n",
        "acc_bag = accuracy_score(y_test, y_pred_bag)\n",
        "\n",
        "print(\"Bagging Classifier:\")\n",
        "print(f\"Accuracy: {acc_bag:.4f}\")\n",
        "print(classification_report(y_test, y_pred_bag))\n",
        "\n",
        "# 3️⃣ Comparison\n",
        "print(\"\\nComparison:\")\n",
        "print(f\"Decision Tree Accuracy: {acc_dt:.4f}\")\n",
        "print(f\"Bagging Classifier Accuracy: {acc_bag:.4f}\")\n"
      ],
      "metadata": {
        "id": "iUTxedN30yRX"
      },
      "execution_count": null,
      "outputs": []
    },
    {
      "cell_type": "code",
      "source": [],
      "metadata": {
        "id": "P8dZVRAs06Nn"
      },
      "execution_count": null,
      "outputs": []
    },
    {
      "cell_type": "markdown",
      "source": [
        "35-  Train a Random Forest Classifier and visualize the confusion matrix."
      ],
      "metadata": {
        "id": "lvD6ZSue09tU"
      }
    },
    {
      "cell_type": "code",
      "source": [
        "from sklearn.datasets import load_iris\n",
        "from sklearn.model_selection import train_test_split\n",
        "from sklearn.tree import DecisionTreeClassifier\n",
        "from sklearn.ensemble import BaggingClassifier\n",
        "from sklearn.metrics import accuracy_score, classification_report\n",
        "\n",
        "# Load dataset\n",
        "data = load_iris()\n",
        "X, y = data.data, data.target\n",
        "\n",
        "# Train-test split\n",
        "X_train, X_test, y_train, y_test = train_test_split(X, y, test_size=0.2, random_state=42)\n",
        "\n",
        "# 1️⃣ Single Decision Tree Classifier\n",
        "dt = DecisionTreeClassifier(random_state=42)\n",
        "dt.fit(X_train, y_train)\n",
        "y_pred_dt = dt.predict(X_test)\n",
        "acc_dt = accuracy_score(y_test, y_pred_dt)\n",
        "\n",
        "print(\"Decision Tree Classifier:\")\n",
        "print(f\"Accuracy: {acc_dt:.4f}\")\n",
        "print(classification_report(y_test, y_pred_dt))\n",
        "\n",
        "# 2️⃣ Bagging Classifier with Decision Trees\n",
        "bagging = BaggingClassifier(estimator=DecisionTreeClassifier(), n_estimators=50, random_state=42)\n",
        "bagging.fit(X_train, y_train)\n",
        "y_pred_bag = bagging.predict(X_test)\n",
        "acc_bag = accuracy_score(y_test, y_pred_bag)\n",
        "\n",
        "print(\"Bagging Classifier:\")\n",
        "print(f\"Accuracy: {acc_bag:.4f}\")\n",
        "print(classification_report(y_test, y_pred_bag))\n",
        "\n",
        "# 3️⃣ Comparison\n",
        "print(\"\\nComparison:\")\n",
        "print(f\"Decision Tree Accuracy: {acc_dt:.4f}\")\n",
        "print(f\"Bagging Classifier Accuracy: {acc_bag:.4f}\")\n"
      ],
      "metadata": {
        "id": "ti6QRwIO1XEa"
      },
      "execution_count": null,
      "outputs": []
    },
    {
      "cell_type": "code",
      "source": [],
      "metadata": {
        "id": "5ue-1fTO1Z0M"
      },
      "execution_count": null,
      "outputs": []
    },
    {
      "cell_type": "markdown",
      "source": [
        "36- Train a Stacking Classifier using Decision Trees, SVM, and Logistic Regression, and compare accuracy."
      ],
      "metadata": {
        "id": "leq0CL7b1kAn"
      }
    },
    {
      "cell_type": "code",
      "source": [
        "from sklearn.datasets import load_breast_cancer\n",
        "from sklearn.model_selection import train_test_split\n",
        "from sklearn.ensemble import StackingClassifier\n",
        "from sklearn.tree import DecisionTreeClassifier\n",
        "from sklearn.svm import SVC\n",
        "from sklearn.linear_model import LogisticRegression\n",
        "from sklearn.metrics import accuracy_score\n",
        "\n",
        "# Load dataset\n",
        "data = load_breast_cancer()\n",
        "X, y = data.data, data.target\n",
        "\n",
        "# Train-test split\n",
        "X_train, X_test, y_train, y_test = train_test_split(X, y, test_size=0.2, random_state=42)\n",
        "\n",
        "# Base learners\n",
        "estimators = [\n",
        "    ('dt', DecisionTreeClassifier(random_state=42)),\n",
        "    ('svm', SVC(probability=True, random_state=42)),\n",
        "    ('lr', LogisticRegression(max_iter=1000, random_state=42))\n",
        "]\n",
        "\n",
        "# Final estimator\n",
        "final_estimator = LogisticRegression(max_iter=1000, random_state=42)\n",
        "\n",
        "# Create stacking classifier\n",
        "stack_clf = StackingClassifier(estimators=estimators, final_estimator=final_estimator)\n",
        "stack_clf.fit(X_train, y_train)\n",
        "\n",
        "# Predict and evaluate\n",
        "y_pred = stack_clf.predict(X_test)\n",
        "accuracy = accuracy_score(y_test, y_pred)\n",
        "print(f\"Stacking Classifier Accuracy: {accuracy:.2f}\")\n"
      ],
      "metadata": {
        "id": "z6w4XUz_1tC3"
      },
      "execution_count": null,
      "outputs": []
    },
    {
      "cell_type": "code",
      "source": [],
      "metadata": {
        "id": "fBAzjeZU119g"
      },
      "execution_count": null,
      "outputs": []
    },
    {
      "cell_type": "markdown",
      "source": [
        "37- Train a Random Forest Classifier and print the top 5 most important features."
      ],
      "metadata": {
        "id": "9uPJJ-Vz15yp"
      }
    },
    {
      "cell_type": "code",
      "source": [
        "from sklearn.datasets import load_breast_cancer\n",
        "from sklearn.ensemble import RandomForestClassifier\n",
        "from sklearn.model_selection import train_test_split\n",
        "import pandas as pd\n",
        "import numpy as np\n",
        "\n",
        "# Load dataset\n",
        "data = load_breast_cancer()\n",
        "X, y = data.data, data.target\n",
        "feature_names = data.feature_names\n",
        "\n",
        "# Train-test split\n",
        "X_train, X_test, y_train, y_test = train_test_split(X, y, test_size=0.2, random_state=42)\n",
        "\n",
        "# Train Random Forest\n",
        "rf = RandomForestClassifier(random_state=42)\n",
        "rf.fit(X_train, y_train)\n",
        "\n",
        "# Get feature importances\n",
        "importances = rf.feature_importances_\n",
        "indices = np.argsort(importances)[::-1]  # Sort descending\n",
        "\n",
        "# Top 5 features\n",
        "print(\"Top 5 Important Features:\")\n",
        "for i in range(5):\n",
        "    print(f\"{i+1}. {feature_names[indices[i]]}: {importances[indices[i]]:.4f}\")\n"
      ],
      "metadata": {
        "id": "_-SP9MNa2CRY"
      },
      "execution_count": null,
      "outputs": []
    },
    {
      "cell_type": "code",
      "source": [],
      "metadata": {
        "id": "NwpZCiEx2IDC"
      },
      "execution_count": null,
      "outputs": []
    },
    {
      "cell_type": "markdown",
      "source": [
        "38- = Train a Bagging Classifier and evaluate performance using Precision, Recall, and F1-score"
      ],
      "metadata": {
        "id": "ZtENExK52Kx8"
      }
    },
    {
      "cell_type": "code",
      "source": [
        "from sklearn.datasets import load_breast_cancer\n",
        "from sklearn.model_selection import train_test_split\n",
        "from sklearn.ensemble import BaggingClassifier\n",
        "from sklearn.tree import DecisionTreeClassifier\n",
        "from sklearn.metrics import classification_report\n",
        "\n",
        "# Load dataset\n",
        "data = load_breast_cancer()\n",
        "X, y = data.data, data.target\n",
        "\n",
        "# Train-test split\n",
        "X_train, X_test, y_train, y_test = train_test_split(X, y, test_size=0.2, random_state=42)\n",
        "\n",
        "# Bagging classifier with Decision Trees\n",
        "bagging_clf = BaggingClassifier(\n",
        "    estimator=DecisionTreeClassifier(),\n",
        "    n_estimators=100,\n",
        "    random_state=42\n",
        ")\n",
        "\n",
        "# Train model\n",
        "bagging_clf.fit(X_train, y_train)\n",
        "\n",
        "# Predict\n",
        "y_pred = bagging_clf.predict(X_test)\n",
        "\n",
        "# Evaluate with precision, recall, f1-score\n",
        "report = classification_report(y_test, y_pred, target_names=data.target_names)\n",
        "print(\"Classification Report:\\n\")\n",
        "print(report)\n"
      ],
      "metadata": {
        "id": "9gp5XbiB2SeV"
      },
      "execution_count": null,
      "outputs": []
    },
    {
      "cell_type": "code",
      "source": [],
      "metadata": {
        "id": "uatPNDsI2au2"
      },
      "execution_count": null,
      "outputs": []
    },
    {
      "cell_type": "markdown",
      "source": [
        "39- Train a Random Forest Classifier and analyze the effect of max_depth on accuracy."
      ],
      "metadata": {
        "id": "7wR-OXJV2g_H"
      }
    },
    {
      "cell_type": "code",
      "source": [
        "import matplotlib.pyplot as plt\n",
        "from sklearn.datasets import load_breast_cancer\n",
        "from sklearn.ensemble import RandomForestClassifier\n",
        "from sklearn.model_selection import train_test_split\n",
        "from sklearn.metrics import accuracy_score\n",
        "\n",
        "# Load dataset\n",
        "data = load_breast_cancer()\n",
        "X, y = data.data, data.target\n",
        "\n",
        "# Train-test split\n",
        "X_train, X_test, y_train, y_test = train_test_split(X, y, test_size=0.2, random_state=42)\n",
        "\n",
        "# Range of max_depth values to test\n",
        "depth_values = list(range(1, 21))\n",
        "train_accuracies = []\n",
        "test_accuracies = []\n",
        "\n",
        "# Train and evaluate Random Forests with different max_depth\n",
        "for depth in depth_values:\n",
        "    clf = RandomForestClassifier(max_depth=depth, n_estimators=100, random_state=42)\n",
        "    clf.fit(X_train, y_train)\n",
        "\n",
        "    train_acc = accuracy_score(y_train, clf.predict(X_train))\n",
        "    test_acc = accuracy_score(y_test, clf.predict(X_test))\n",
        "\n",
        "    train_accuracies.append(train_acc)\n",
        "    test_accuracies.append(test_acc)\n",
        "\n",
        "# Plotting accuracy vs max_depth\n",
        "plt.figure(figsize=(10, 6))\n",
        "plt.plot(depth_values, train_accuracies, label='Training Accuracy', marker='o')\n",
        "plt.plot(depth_values, test_accuracies, label='Testing Accuracy', marker='s')\n",
        "plt.xlabel('max_depth')\n",
        "plt.ylabel('Accuracy')\n",
        "plt.title('Effect of max_depth on Random Forest Accuracy')\n",
        "plt.legend()\n",
        "plt.grid(True)\n",
        "plt.tight_layout()\n",
        "plt.show()\n"
      ],
      "metadata": {
        "id": "pRxLW15d2j1G",
        "colab": {
          "base_uri": "https://localhost:8080/",
          "height": 607
        },
        "outputId": "15e477c6-8696-4be1-af30-d952acecbd3b"
      },
      "execution_count": 1,
      "outputs": [
        {
          "output_type": "display_data",
          "data": {
            "text/plain": [
              "<Figure size 1000x600 with 1 Axes>"
            ],
            "image/png": "[encoded data removed]"
          },
          "metadata": {}
        }
      ]
    },
    {
      "cell_type": "code",
      "source": [],
      "metadata": {
        "id": "LKcISAcA2qwu"
      },
      "execution_count": null,
      "outputs": []
    },
    {
      "cell_type": "markdown",
      "source": [
        "40-Train a Bagging Regressor using different base estimators (DecisionTree and KNeighbors) and compare\n",
        "performance"
      ],
      "metadata": {
        "id": "HBzRMKir21LL"
      }
    },
    {
      "cell_type": "code",
      "source": [
        "from sklearn.datasets import fetch_california_housing\n",
        "from sklearn.model_selection import train_test_split\n",
        "from sklearn.ensemble import BaggingRegressor\n",
        "from sklearn.tree import DecisionTreeRegressor\n",
        "from sklearn.neighbors import KNeighborsRegressor\n",
        "from sklearn.metrics import mean_squared_error\n",
        "import matplotlib.pyplot as plt\n",
        "\n",
        "# Load dataset\n",
        "data = fetch_california_housing()\n",
        "X, y = data.data, data.target\n",
        "\n",
        "# Split data\n",
        "X_train, X_test, y_train, y_test = train_test_split(X, y, test_size=0.2, random_state=42)\n",
        "\n",
        "# Define base estimators\n",
        "dt_base = DecisionTreeRegressor(random_state=42)\n",
        "knn_base = KNeighborsRegressor(n_neighbors=5)\n",
        "\n",
        "# Bagging Regressors\n",
        "bagging_dt = BaggingRegressor(estimator=dt_base, n_estimators=50, random_state=42)\n",
        "bagging_knn = BaggingRegressor(estimator=knn_base, n_estimators=50, random_state=42)\n",
        "\n",
        "# Fit models\n",
        "bagging_dt.fit(X_train, y_train)\n",
        "bagging_knn.fit(X_train, y_train)\n",
        "\n",
        "# Predict\n",
        "y_pred_dt = bagging_dt.predict(X_test)\n",
        "y_pred_knn = bagging_knn.predict(X_test)\n",
        "\n",
        "# Evaluate\n",
        "mse_dt = mean_squared_error(y_test, y_pred_dt)\n",
        "mse_knn = mean_squared_error(y_test, y_pred_knn)\n",
        "\n",
        "print(\"Mean Squared Error with Decision Tree base:\", mse_dt)\n",
        "print(\"Mean Squared Error with KNN base:\", mse_knn)\n",
        "\n",
        "# Bar plot for comparison\n",
        "plt.bar(['Bagging + DecisionTree', 'Bagging + KNeighbors'], [mse_dt, mse_knn], color=['skyblue', 'salmon'])\n",
        "plt.ylabel('Mean Squared Error')\n",
        "plt.title('Bagging Regressor Performance Comparison')\n",
        "plt.show()\n"
      ],
      "metadata": {
        "id": "UqY7C_NcAiA0"
      },
      "execution_count": null,
      "outputs": []
    },
    {
      "cell_type": "markdown",
      "source": [
        "41- Train a Random Forest Classifier and evaluate its performance using ROC-AUC Score"
      ],
      "metadata": {
        "id": "TST1xDUW3mRn"
      }
    },
    {
      "cell_type": "code",
      "source": [
        "from sklearn.datasets import load_breast_cancer\n",
        "from sklearn.ensemble import RandomForestClassifier\n",
        "from sklearn.model_selection import train_test_split\n",
        "from sklearn.metrics import roc_auc_score, roc_curve\n",
        "import matplotlib.pyplot as plt\n",
        "\n",
        "# Load dataset\n",
        "data = load_breast_cancer()\n",
        "X, y = data.data, data.target\n",
        "\n",
        "# Train-test split\n",
        "X_train, X_test, y_train, y_test = train_test_split(X, y, test_size=0.2, random_state=42)\n",
        "\n",
        "# Train Random Forest Classifier\n",
        "rf_model = RandomForestClassifier(n_estimators=100, random_state=42)\n",
        "rf_model.fit(X_train, y_train)\n",
        "\n",
        "# Predict probabilities\n",
        "y_proba = rf_model.predict_proba(X_test)[:, 1]  # Probability for the positive class\n",
        "\n",
        "# Calculate ROC-AUC Score\n",
        "roc_auc = roc_auc_score(y_test, y_proba)\n",
        "print(\"ROC-AUC Score:\", roc_auc)\n",
        "\n",
        "# Pl\n"
      ],
      "metadata": {
        "id": "Djqi6pjv3y2Z"
      },
      "execution_count": null,
      "outputs": []
    },
    {
      "cell_type": "markdown",
      "source": [
        "42- Train a Bagging Classifier and evaluate its performance using cross-validatio."
      ],
      "metadata": {
        "id": "OS5bMYA534Ec"
      }
    },
    {
      "cell_type": "code",
      "source": [
        "from sklearn.datasets import load_breast_cancer\n",
        "from sklearn.ensemble import BaggingClassifier\n",
        "from sklearn.tree import DecisionTreeClassifier\n",
        "from sklearn.model_selection import cross_val_score\n",
        "import numpy as np\n",
        "\n",
        "# Load classification dataset\n",
        "data = load_breast_cancer()\n",
        "X, y = data.data, data.target\n",
        "\n",
        "# Define the Bagging Classifier with Decision Tree as base estimator\n",
        "model = BaggingClassifier(\n",
        "    estimator=DecisionTreeClassifier(),  # use estimator=... if sklearn ≥1.2\n",
        "    n_estimators=50,\n",
        "    random_state=42,\n",
        "    n_jobs=-1\n",
        ")\n",
        "\n",
        "# Perform 5-fold cross-validation\n",
        "cv_scores = cross_val_score(model, X, y, cv=5, scoring='accuracy')\n",
        "\n",
        "# Print results\n",
        "print(\"Cross-Validation Accuracy Scores:\", cv_scores)\n",
        "print(\"Mean Accuracy:\", np.mean(cv_scores))\n",
        "print(\"Standard Deviation:\", np.std(cv_scores))\n"
      ],
      "metadata": {
        "id": "I_L56G8c37wC"
      },
      "execution_count": null,
      "outputs": []
    },
    {
      "cell_type": "code",
      "source": [],
      "metadata": {
        "id": "Kfg5lgC74DDY"
      },
      "execution_count": null,
      "outputs": []
    },
    {
      "cell_type": "markdown",
      "source": [
        "43- Train a Random Forest Classifier and plot the Precision-Recall curve"
      ],
      "metadata": {
        "id": "f40u8E6a4Oc6"
      }
    },
    {
      "cell_type": "code",
      "source": [
        "import numpy as np\n",
        "import matplotlib.pyplot as plt\n",
        "from sklearn.datasets import load_breast_cancer\n",
        "from sklearn.ensemble import RandomForestClassifier\n",
        "from sklearn.model_selection import train_test_split\n",
        "from sklearn.metrics import precision_recall_curve, average_precision_score\n",
        "\n",
        "# 1. Load dataset\n",
        "data = load_breast_cancer()\n",
        "X, y = data.data, data.target\n",
        "\n",
        "# 2. Train-test split\n",
        "X_train, X_test, y_train, y_test = train_test_split(X, y, test_size=0.3, random_state=42)\n",
        "\n",
        "# 3. Train Random Forest Classifier\n",
        "rf = RandomForestClassifier(n_estimators=100, random_state=42)\n",
        "rf.fit(X_train, y_train)\n",
        "\n",
        "# 4. Predict probabilities\n",
        "y_scores = rf.predict_proba(X_test)[:, 1]\n",
        "\n",
        "# 5. Precision-Recall values\n",
        "precision, recall, thresholds = precision_recall_curve(y_test, y_scores)\n",
        "avg_precision = average_precision_score(y_test, y_scores)\n",
        "\n",
        "# 6. Plot Precision-Recall curve\n",
        "plt.figure(figsize=(8, 6))\n",
        "plt.plot(recall, precision, label=f'Random Forest (AP = {avg_precision:.2f})', color='blue')\n",
        "plt.xlabel('Recall')\n",
        "plt.ylabel('Precision')\n",
        "plt.title('Precision-Recall Curve')\n",
        "plt.legend()\n",
        "plt.grid(True)\n",
        "plt.show()\n"
      ],
      "metadata": {
        "id": "7tLll1OT4iOm"
      },
      "execution_count": null,
      "outputs": []
    },
    {
      "cell_type": "markdown",
      "source": [
        "44- Train a Stacking Classifier with Random Forest and Logistic Regression and compare accuracy"
      ],
      "metadata": {
        "id": "oPKCsrHF4mbk"
      }
    },
    {
      "cell_type": "code",
      "source": [
        "from sklearn.datasets import load_breast_cancer\n",
        "from sklearn.ensemble import RandomForestClassifier, StackingClassifier\n",
        "from sklearn.linear_model import LogisticRegression\n",
        "from sklearn.model_selection import train_test_split\n",
        "from sklearn.metrics import accuracy_score\n",
        "import warnings\n",
        "warnings.filterwarnings('ignore')\n",
        "\n",
        "# Load dataset\n",
        "data = load_breast_cancer()\n",
        "X, y = data.data, data.target\n",
        "\n",
        "# Split dataset\n",
        "X_train, X_test, y_train, y_test = train_test_split(X, y, test_size=0.2, random_state=42)\n",
        "\n",
        "# Define base models\n",
        "rf = RandomForestClassifier(n_estimators=100, random_state=42)\n",
        "lr = LogisticRegression(max_iter=1000)\n",
        "\n",
        "# Train individual models\n",
        "rf.fit(X_train, y_train)\n",
        "lr.fit(X_train, y_train)\n",
        "\n",
        "# Evaluate individual models\n",
        "rf_pred = rf.predict(X_test)\n",
        "lr_pred = lr.predict(X_test)\n",
        "\n",
        "print(\"Random Forest Accuracy:\", accuracy_score(y_test, rf_pred))\n",
        "print(\"Logistic Regression Accuracy:\", accuracy_score(y_test, lr_pred))\n",
        "\n",
        "# Define stacking classifier\n",
        "stack_model = StackingClassifier(\n",
        "    estimators=[('rf', rf), ('lr', lr)],\n",
        "    final_estimator=LogisticRegression()\n",
        ")\n",
        "\n",
        "# Train stacking model\n",
        "stack_model.fit(X_train, y_train)\n",
        "\n",
        "# Evaluate stacking model\n",
        "stack_pred = stack_model.predict(X_test)\n",
        "print(\"Stacking Classifier Accuracy:\", accuracy_score(y_test, stack_pred))\n"
      ],
      "metadata": {
        "id": "izxO8zdg40zI",
        "colab": {
          "base_uri": "https://localhost:8080/"
        },
        "outputId": "7f59d22c-bda2-448b-d965-418de6f1d261"
      },
      "execution_count": 3,
      "outputs": [
        {
          "output_type": "stream",
          "name": "stdout",
          "text": [
            "Random Forest Accuracy: 0.9649122807017544\n",
            "Logistic Regression Accuracy: 0.956140350877193\n",
            "Stacking Classifier Accuracy: 0.9649122807017544\n"
          ]
        }
      ]
    },
    {
      "cell_type": "code",
      "source": [],
      "metadata": {
        "id": "w5YOxLIf42cY"
      },
      "execution_count": null,
      "outputs": []
    },
    {
      "cell_type": "markdown",
      "source": [
        "45- Train a Bagging Regressor with different levels of bootstrap samples and compare performance."
      ],
      "metadata": {
        "id": "4vxn3jYQ479p"
      }
    },
    {
      "cell_type": "code",
      "source": [
        "from sklearn.datasets import fetch_california_housing\n",
        "from sklearn.ensemble import BaggingRegressor\n",
        "from sklearn.tree import DecisionTreeRegressor\n",
        "from sklearn.model_selection import train_test_split\n",
        "from sklearn.metrics import mean_squared_error\n",
        "import matplotlib.pyplot as plt\n",
        "\n",
        "# 1. Load dataset\n",
        "data = fetch_california_housing()\n",
        "X, y = data.data, data.target\n",
        "\n",
        "# 2. Train-test split\n",
        "X_train, X_test, y_train, y_test = train_test_split(X, y, test_size=0.3, random_state=42)\n",
        "\n",
        "# 3. Initialize base estimator\n",
        "base_estimator = DecisionTreeRegressor(random_state=42)\n",
        "\n",
        "# 4. Bagging with bootstrap = True (default)\n",
        "bagging_bootstrap = BaggingRegressor(\n",
        "\n",
        "   estimator=DecisionTreeRegressor(),\n",
        "    n_estimators=50,\n",
        "    bootstrap=True,\n",
        "    random_state=42\n",
        ")\n",
        "bagging_bootstrap.fit(X_train, y_train)\n",
        "y_pred_bootstrap = bagging_bootstrap.predict(X_test)\n",
        "mse_bootstrap = mean_squared_error(y_test, y_pred_bootstrap)\n",
        "\n",
        "# 5. Bagging with bootstrap = False\n",
        "bagging_no_bootstrap = BaggingRegressor(\n",
        "    estimator=DecisionTreeRegressor(),\n",
        "    n_estimators=50,\n",
        "    bootstrap=False,\n",
        "    random_state=42\n",
        ")\n",
        "bagging_no_bootstrap.fit(X_train, y_train)\n",
        "y_pred_no_bootstrap = bagging_no_bootstrap.predict(X_test)\n",
        "mse_no_bootstrap = mean_squared_error(y_test, y_pred_no_bootstrap)\n",
        "\n",
        "# 6. Print and Compare Results\n",
        "print(f\"Bagging Regressor with Bootstrap=True MSE: {mse_bootstrap:.4f}\")\n",
        "print(f\"Bagging Regressor with Bootstrap=False MSE: {mse_no_bootstrap:.4f}\")\n",
        "\n",
        "# 7. Bar Plot for comparison\n",
        "plt.figure(figsize=(6, 4))\n",
        "plt.bar(['Bootstrap=True', 'Bootstrap=False'], [mse_bootstrap, mse_no_bootstrap], color=['green', 'orange'])\n",
        "plt.ylabel('Mean Squared Error')\n",
        "plt.title('Bagging Regressor Performance with/without Bootstrap')\n",
        "plt.grid(True, axis='y', linestyle='--', alpha=0.7)\n",
        "plt.show()\n"
      ],
      "metadata": {
        "id": "MstW4u8C5Elm",
        "colab": {
          "base_uri": "https://localhost:8080/",
          "height": 427
        },
        "outputId": "24775d7b-c096-42e2-9cff-26375b049d35"
      },
      "execution_count": 2,
      "outputs": [
        {
          "output_type": "stream",
          "name": "stdout",
          "text": [
            "Bagging Regressor with Bootstrap=True MSE: 0.2579\n",
            "Bagging Regressor with Bootstrap=False MSE: 0.4967\n"
          ]
        },
        {
          "output_type": "display_data",
          "data": {
            "text/plain": [
              "<Figure size 600x400 with 1 Axes>"
            ],
            "image/png": "[encoded data removed]"
          },
          "metadata": {}
        }
      ]
    },
    {
      "cell_type": "code",
      "source": [],
      "metadata": {
        "id": "bvisdmDW5MSa"
      },
      "execution_count": null,
      "outputs": []
    }
  ]
}